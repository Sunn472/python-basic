{
  "nbformat": 4,
  "nbformat_minor": 0,
  "metadata": {
    "colab": {
      "provenance": []
    },
    "kernelspec": {
      "name": "python3",
      "display_name": "Python 3"
    },
    "language_info": {
      "name": "python"
    }
  },
  "cells": [
    {
      "cell_type": "markdown",
      "source": [
        " Q1. What is Python, and why is it popular ?\n",
        "\n",
        "     ans>>\n",
        "   \n",
        "     Python is a popular programming language , it is easy to learn ,\n",
        "     versatile and open source\n",
        "\n",
        "     It is popular for following reason:-\n",
        "     1. Python is easy to learn\n",
        "     2. Python has an active, supportive community\n",
        "     3. Python is flexible\n",
        "     4. Python offers versatile web-development solutions\n",
        "     5. Python is well suited to data science and analytics\n",
        "     6. Python is efficient, fast, and reliable\n",
        "     7. Python is widely used with Interest of things Technology\n",
        "     8. Python empowers custom automation"
      ],
      "metadata": {
        "id": "DFJqFDH8YDcz"
      }
    },
    {
      "cell_type": "markdown",
      "source": [
        "Q2. What is an interpreter in Python\n",
        "\n",
        "     ans>>\n",
        "     A Python interpreter is a program that reads and executes Python code.\n",
        "     It translates Python code into instructions that the computer can understand."
      ],
      "metadata": {
        "id": "hhmViU_nZlN0"
      }
    },
    {
      "cell_type": "markdown",
      "source": [
        "Q3. What are pre-defined keywords in Python\n",
        "\n",
        "     ans>>\n",
        "     Pre-defined keywords in Python are reserved words that have special\n",
        "     meanings and purposes within the language's syntax.\n",
        "     These keywords cannot be used as identifiers\n",
        "     (e.g., variable names, function names)\n",
        "     because they are part of the language's core structure and functionality."
      ],
      "metadata": {
        "id": "e9WRUJcNZYm4"
      }
    },
    {
      "cell_type": "markdown",
      "source": [
        "Q4. Can keywords be used as variable names\n",
        "\n",
        "     ans>>\n",
        "\n",
        "     No . keywords can't be used as variable names"
      ],
      "metadata": {
        "id": "RXI7WzzCahJH"
      }
    },
    {
      "cell_type": "markdown",
      "source": [
        "Q5. What is mutability in Python\n",
        "\n",
        "     ans>>\n",
        "     Mutability in Python refers that ability to change/modify in object\n",
        "     after creating it .\n",
        "     If an object is mutable then we can add/replace/remove in object\n",
        "     without creating a new object\n",
        "\n",
        "     example= list,set,dictionary\n"
      ],
      "metadata": {
        "id": "FDdhPlENa7Ms"
      }
    },
    {
      "cell_type": "markdown",
      "source": [
        "Q6. Why are lists mutable, but tuples are immutable\n",
        "\n",
        "     ans>>\n",
        "     ists are mutable because we can change them after they are created.\n",
        "     We can add, remove, or modify elements in a list without creating a new list.\n",
        "\n",
        "     Ex.\n",
        "     list = [1, 2, 3]\n",
        "     list.append(4)  # Adds 4 to the list\n",
        "     print(list)  # Output: [1, 2, 3, 4]\n",
        "\n",
        "     Tuples are immutable because once they are created, you cannot change them.\n",
        "     You cannot add, remove, or modify elements in a tuple.\n",
        "     tuple = (1, 2, 3)\n",
        "     tuple[0] = 10  # This will give an error!\n",
        "\n",
        "\n",
        "\n"
      ],
      "metadata": {
        "id": "Zjd_EP7Gb9gX"
      }
    },
    {
      "cell_type": "markdown",
      "source": [
        "Q7. What is the difference between “==” and “is” operators in Python\n",
        "\n",
        "     ans>>\n",
        "     \"==\"\n",
        "     It is the comparison operator.\n",
        "     It uses when  two value are equal to each other\n",
        "     It returns True if a==b , otherwise False\n",
        "     for example:\n",
        "     if a=6 and b=6\n",
        "     then we use a==b in python\n",
        "\n",
        "     “is”\n",
        "     it is an identity operator\n",
        "     it compares the location of two objects/variable\n",
        "     It returns True if they do and False otherwise.\n",
        "     for example:\n",
        "     x = [1, 2, 3]\n",
        "     y=x\n",
        "     z = [1, 2, 3]\n",
        "     then we use x is y\n",
        "                 x is z\n",
        "                 x == z\n"
      ],
      "metadata": {
        "id": "jVvZJNj5dJCD"
      }
    },
    {
      "cell_type": "markdown",
      "source": [
        "Q8.  What are logical operators in Python\n",
        "\n",
        "     ans>>\n",
        "     Logical Operators in Python\n",
        "     Logical operators in Python are used to combine conditional statements. They return True or False based on the given conditions.\n",
        "\n",
        "     Types of Logical Operators\n",
        "     and → Returns True if both conditions are True\n",
        "     or → Returns True if at least one condition is True\n",
        "     not → Reverses the condition (True becomes False, and vice versa)"
      ],
      "metadata": {
        "id": "wQMqu-O1fcJJ"
      }
    },
    {
      "cell_type": "markdown",
      "source": [
        "Q9. What is type casting in Python\n",
        "\n",
        "     ans>>\n",
        "     It is also calledtype conversion\n",
        "     It is the process of changing the data type of a value/object\n",
        "     when we  ececuting/compution using operators, there can be missmatch\n",
        "     b/w the datatype then we type casting"
      ],
      "metadata": {
        "id": "DvOUWjSqhJC4"
      }
    },
    {
      "cell_type": "markdown",
      "source": [
        "Q10. What is the difference between implicit and explicit type casting\n",
        "     \n",
        "\n",
        "     ans>>\n",
        "     Implicit Type Casting (Automatic)\n",
        "     Python automatically converts a smaller data type into a larger one\n",
        "     to prevent data loss.\n",
        "     No manual conversion is needed.\n",
        "\n",
        "     Explicit Type Casting (Manual)\n",
        "     We manually convert one data type into another using functions like:\n",
        "     int()\n",
        "     float()\n",
        "     str()\n",
        "     list(), etc."
      ],
      "metadata": {
        "id": "L4X0FRNGhxnn"
      }
    },
    {
      "cell_type": "markdown",
      "source": [
        "Q11. What is the purpose of conditional statements in Python\n",
        "     \n",
        "     ans>>\n",
        "     \n",
        "     \n",
        "     \n",
        "     Purpose of Conditional Statements in Python\n",
        "     Conditional statements in Python allow the program to make decisions\n",
        "     based on conditions. They help control the flow of execution by\n",
        "     running different code depending on whether a condition is True or False.\n",
        "     Why Use Conditional Statements?\n",
        "     To execute specific code only when certain conditions are met.\n",
        "     To create decision-making logic in programs.\n",
        "     To make programs more dynamic and interactive."
      ],
      "metadata": {
        "id": "2nn9lmCbiZ9J"
      }
    },
    {
      "cell_type": "markdown",
      "source": [
        "Q12. How does the elif statement work\n",
        "\n",
        "     The elif (short for else if) statement allows you to check multiple\n",
        "     conditions in a sequence. It is used when you have more than two\n",
        "     possible outcomes and want to execute only the first True condition.\n",
        "     \n",
        "     Syntax of if-elif-else Statement:\n",
        "     if condition1:\n",
        "    # Executes if condition1 is True\n",
        "         elif condition2:\n",
        "    # Executes if condition2 is True (and condition1 is False)\n",
        "         elif condition3:\n",
        "    # Executes if condition3 is True (and all above are False)\n",
        "         else:\n",
        "    # Executes if none of the conditions are True\n"
      ],
      "metadata": {
        "id": "I9CP7S73i8Vm"
      }
    },
    {
      "cell_type": "markdown",
      "source": [
        "Q13. What is the difference between for and while loops\n",
        "\n",
        "     ans>>\n",
        "\n",
        "     \"for loop\"\n",
        "     -Used when the number of iterations is known\n",
        "     -Iterates over a sequence (list, range, string, etc.)\n",
        "     -Iterating over items in a sequence\n",
        "     -Controlled by a sequence (like range())\n",
        "\n",
        "     \"while loop\"\n",
        "     -Used when the number of iterations is unknown\n",
        "     -Runs until a condition becomes False\n",
        "     -Running a loop until a condition is met\n",
        "     -Controlled by a condition"
      ],
      "metadata": {
        "id": "htZPyqtyjnSt"
      }
    },
    {
      "cell_type": "markdown",
      "source": [
        "Q14. Describe a scenario where a while loop is more suitable than a for loop\n",
        "\n",
        "     ans>>\n",
        "     Scenario:\n",
        "\n",
        "      I am  writing a program that reads data from a file.I don't know how\n",
        "      many lines are in the file beforehand. In this case, a while loop\n",
        "      would be a better choice.I can  use it to read each line of the file\n",
        "      until you reach the end.\n",
        "\n",
        "      while (not end_of_file) {\n",
        "      read_next_line();\n",
        "      process_line();\n",
        "     }\n",
        "     \n",
        "     In this example, the loop continues as long as the condition not\n",
        "     end_of_file is true. Once the end of the file is reached, the\n",
        "      condition becomes false, and the loop terminates.\n",
        "\n",
        "     Why a while loop is better here:\n",
        "\n",
        "     Flexibility: While loops are more flexible than for loops because\n",
        "     they can be used to repeat a block of code as long as a certain\n",
        "     condition is true, regardless of the number of iterations.\n",
        "     \n",
        "     Readability: In this scenario, a while loop makes the code more\n",
        "     readable because it clearly expresses the intent of the loop, which\n",
        "     is to process each line of the file until the end is reached."
      ],
      "metadata": {
        "id": "sHotjSDrkbWB"
      }
    },
    {
      "cell_type": "code",
      "source": [
        "'''\n",
        "Q1. Write a Python program to print \"Hello, World!\n",
        "'''\n",
        "print(\"Hello, World!\")"
      ],
      "metadata": {
        "colab": {
          "base_uri": "https://localhost:8080/"
        },
        "id": "BdkxuOG-RYLr",
        "outputId": "e2964c9d-3080-4e2b-b8e0-2cae8c945ff2"
      },
      "execution_count": null,
      "outputs": [
        {
          "output_type": "stream",
          "name": "stdout",
          "text": [
            "Hello, World!\n"
          ]
        }
      ]
    },
    {
      "cell_type": "code",
      "source": [
        "'''\n",
        "Q2.Write a Python program that displays your name and age.\n",
        "'''\n",
        "name = input(\"Enter your name: \")\n",
        "age = int(input(\"Enter your age: \"))\n",
        "print(\"Name:\", name)\n",
        "print(\"Age:\", age)"
      ],
      "metadata": {
        "colab": {
          "base_uri": "https://localhost:8080/"
        },
        "id": "cr3A4LcERnaL",
        "outputId": "366aee21-d4f2-4192-96c2-0f5768e9506e"
      },
      "execution_count": null,
      "outputs": [
        {
          "output_type": "stream",
          "name": "stdout",
          "text": [
            "Enter your name: Sunny Bharti\n",
            "Enter your age: 21\n",
            "Name: Sunny Bharti\n",
            "Age: 21\n"
          ]
        }
      ]
    },
    {
      "cell_type": "code",
      "source": [
        "'''\n",
        "Q3. Write code to print all the pre-defined keywords in Python using\n",
        " the keyword library\n",
        "'''\n",
        "help('keywords')"
      ],
      "metadata": {
        "colab": {
          "base_uri": "https://localhost:8080/"
        },
        "id": "BncpFW-lR6iU",
        "outputId": "3e87ad94-77e1-496f-b86f-4f3e0de263db"
      },
      "execution_count": null,
      "outputs": [
        {
          "output_type": "stream",
          "name": "stdout",
          "text": [
            "\n",
            "Here is a list of the Python keywords.  Enter any keyword to get more help.\n",
            "\n",
            "False               class               from                or\n",
            "None                continue            global              pass\n",
            "True                def                 if                  raise\n",
            "and                 del                 import              return\n",
            "as                  elif                in                  try\n",
            "assert              else                is                  while\n",
            "async               except              lambda              with\n",
            "await               finally             nonlocal            yield\n",
            "break               for                 not                 \n",
            "\n"
          ]
        }
      ]
    },
    {
      "cell_type": "code",
      "source": [
        "'''\n",
        "Q4. Write a program that checks if a given word is a Python keyword.\n",
        "'''\n",
        "import keyword\n",
        "word = input(\"Enter a word: \")\n",
        "if keyword.iskeyword(word):\n",
        "    print(word, \"is a Python keyword.\")\n",
        "else:\n",
        "    print(word, \"is not a Python keyword.\")"
      ],
      "metadata": {
        "colab": {
          "base_uri": "https://localhost:8080/"
        },
        "id": "HvBAw35FSnAv",
        "outputId": "ac025416-c717-4e99-f6c8-ef5042eff2ec"
      },
      "execution_count": null,
      "outputs": [
        {
          "output_type": "stream",
          "name": "stdout",
          "text": [
            "Enter a word: for\n",
            "for is a Python keyword.\n"
          ]
        }
      ]
    },
    {
      "cell_type": "code",
      "source": [
        "'''\n",
        "Q5. Create a list and tuple in Python, and demonstrate how attempting to change\n",
        "an element works differently for each.\n",
        "'''\n",
        "#changing list\n",
        "list=[1,2,3,'apple',3+6j] #original list\n",
        "print(list)\n",
        "list[4]='potato' #adding elemet at place of 3+6j(4th index)\n",
        "print(list)  #modified list\n",
        "\n",
        "#changing tuple\n",
        "tuple=(3,4,5.6,'banana',2+5j) # original tuple\n",
        "print(tuple)\n",
        "\n",
        "# if we want to modifying the tuple, it gives error because tuple is immutable\n",
        "tuple[3]='mango'\n",
        "print(tuple)"
      ],
      "metadata": {
        "colab": {
          "base_uri": "https://localhost:8080/",
          "height": 245
        },
        "id": "K0fzAQzdTxv3",
        "outputId": "26afc4ee-dd0c-430f-cd98-050c4e96f426"
      },
      "execution_count": null,
      "outputs": [
        {
          "output_type": "stream",
          "name": "stdout",
          "text": [
            "[1, 2, 3, 'apple', (3+6j)]\n",
            "[1, 2, 3, 'apple', 'potato']\n",
            "(3, 4, 5.6, 'banana', (2+5j))\n"
          ]
        },
        {
          "output_type": "error",
          "ename": "TypeError",
          "evalue": "'tuple' object does not support item assignment",
          "traceback": [
            "\u001b[0;31m---------------------------------------------------------------------------\u001b[0m",
            "\u001b[0;31mTypeError\u001b[0m                                 Traceback (most recent call last)",
            "\u001b[0;32m<ipython-input-12-498342f732ca>\u001b[0m in \u001b[0;36m<cell line: 0>\u001b[0;34m()\u001b[0m\n\u001b[1;32m     12\u001b[0m \u001b[0mtuple\u001b[0m\u001b[0;34m=\u001b[0m\u001b[0;34m(\u001b[0m\u001b[0;36m3\u001b[0m\u001b[0;34m,\u001b[0m\u001b[0;36m4\u001b[0m\u001b[0;34m,\u001b[0m\u001b[0;36m5.6\u001b[0m\u001b[0;34m,\u001b[0m\u001b[0;34m'banana'\u001b[0m\u001b[0;34m,\u001b[0m\u001b[0;36m2\u001b[0m\u001b[0;34m+\u001b[0m\u001b[0;36m5j\u001b[0m\u001b[0;34m)\u001b[0m \u001b[0;31m# original tuple\u001b[0m\u001b[0;34m\u001b[0m\u001b[0;34m\u001b[0m\u001b[0m\n\u001b[1;32m     13\u001b[0m \u001b[0mprint\u001b[0m\u001b[0;34m(\u001b[0m\u001b[0mtuple\u001b[0m\u001b[0;34m)\u001b[0m\u001b[0;34m\u001b[0m\u001b[0;34m\u001b[0m\u001b[0m\n\u001b[0;32m---> 14\u001b[0;31m \u001b[0mtuple\u001b[0m\u001b[0;34m[\u001b[0m\u001b[0;36m3\u001b[0m\u001b[0;34m]\u001b[0m\u001b[0;34m=\u001b[0m\u001b[0;34m'mango'\u001b[0m\u001b[0;34m\u001b[0m\u001b[0;34m\u001b[0m\u001b[0m\n\u001b[0m\u001b[1;32m     15\u001b[0m \u001b[0mprint\u001b[0m\u001b[0;34m(\u001b[0m\u001b[0mtuple\u001b[0m\u001b[0;34m)\u001b[0m\u001b[0;34m\u001b[0m\u001b[0;34m\u001b[0m\u001b[0m\n",
            "\u001b[0;31mTypeError\u001b[0m: 'tuple' object does not support item assignment"
          ]
        }
      ]
    },
    {
      "cell_type": "code",
      "source": [
        "'''\n",
        "Q6. Write a function to demonstrate the behavior of mutable and immutable\n",
        "arguments.\n",
        "'''\n",
        "def modify_values(immutable_arg, mutable_arg):\n",
        "    # Trying to modify an immutable argument (integer)\n",
        "    immutable_arg += 10\n",
        "    print(f\"Inside function (immutable): {immutable_arg}\")\n",
        "\n",
        "    # Modifying a mutable argument (list)\n",
        "    mutable_arg.append(100)\n",
        "    print(f\"Inside function (mutable): {mutable_arg}\")\n",
        "\n",
        "# Immutable argument (integer)\n",
        "num = 50\n",
        "\n",
        "# Mutable argument (list)\n",
        "numbers = [1, 2, 3]\n",
        "\n",
        "print(f\"Before function call (immutable): {num}\")\n",
        "print(f\"Before function call (mutable): {numbers}\")\n",
        "\n",
        "# Call function\n",
        "modify_values(num, numbers)\n",
        "\n",
        "print(f\"After function call (immutable): {num}\")\n",
        "print(f\"After function call (mutable): {numbers}\")\n"
      ],
      "metadata": {
        "id": "QK_iAXmrU11k",
        "colab": {
          "base_uri": "https://localhost:8080/"
        },
        "outputId": "760118a1-09e0-4135-a260-d02029e935af"
      },
      "execution_count": null,
      "outputs": [
        {
          "output_type": "stream",
          "name": "stdout",
          "text": [
            "Before function call (immutable): 50\n",
            "Before function call (mutable): [1, 2, 3]\n",
            "Inside function (immutable): 60\n",
            "Inside function (mutable): [1, 2, 3, 100]\n",
            "After function call (immutable): 50\n",
            "After function call (mutable): [1, 2, 3, 100]\n"
          ]
        }
      ]
    },
    {
      "cell_type": "code",
      "source": [
        "'''\n",
        "Q7.  Write a program that performs basic arithmetic operations on two\n",
        "user-input numbers.\n",
        "'''\n",
        "a=int(input('a= '))\n",
        "b=int(input('b= '))\n",
        "#addition\n",
        "print('a+b= ',a+b)\n",
        "#substraction\n",
        "print('a-b= ',a+b)\n",
        "#multiplication\n",
        "print('a*b= ',a*b)\n",
        "#division\n",
        "print('a/b= ', a/b)"
      ],
      "metadata": {
        "colab": {
          "base_uri": "https://localhost:8080/"
        },
        "id": "rNqvSbtPZyvz",
        "outputId": "b59d90dc-4af2-480f-b53b-255c59898ff0"
      },
      "execution_count": null,
      "outputs": [
        {
          "output_type": "stream",
          "name": "stdout",
          "text": [
            "a= 88\n",
            "b= 11\n",
            "a+b=  99\n",
            "a-b=  99\n",
            "a*b=  968\n",
            "a/b=  8.0\n"
          ]
        }
      ]
    },
    {
      "cell_type": "code",
      "source": [
        "'''\n",
        "Q8. Write a program to demonstrate the use of logical operators.\n",
        "'''\n",
        "a=12\n",
        "b=12\n",
        "#equal to (==) if a==b, returns true, otherwise false\n",
        "a==b\n"
      ],
      "metadata": {
        "id": "-T577XYiaNdh",
        "colab": {
          "base_uri": "https://localhost:8080/"
        },
        "outputId": "378c2eba-c66b-43e7-ecf5-cc9d9ba23fff"
      },
      "execution_count": null,
      "outputs": [
        {
          "output_type": "execute_result",
          "data": {
            "text/plain": [
              "True"
            ]
          },
          "metadata": {},
          "execution_count": 6
        }
      ]
    },
    {
      "cell_type": "code",
      "source": [
        "'''\n",
        "Q8\n",
        "'''\n",
        "#not equal to(!=) , returns true, otherwise false\n",
        "c=6\n",
        "d=5\n",
        "c!=d"
      ],
      "metadata": {
        "colab": {
          "base_uri": "https://localhost:8080/"
        },
        "id": "64DyCe9f-1Ie",
        "outputId": "1d686e35-210d-47da-f9d0-2fede864a0d2"
      },
      "execution_count": null,
      "outputs": [
        {
          "output_type": "execute_result",
          "data": {
            "text/plain": [
              "True"
            ]
          },
          "metadata": {},
          "execution_count": 7
        }
      ]
    },
    {
      "cell_type": "code",
      "source": [
        "'''\n",
        "Q8.\n",
        "'''\n",
        "#greater than,a>b , returns true, otherwise false\n",
        "a=6\n",
        "b=5\n",
        "a>b"
      ],
      "metadata": {
        "colab": {
          "base_uri": "https://localhost:8080/"
        },
        "id": "89bzEMAfAB2s",
        "outputId": "27b7bc0e-68cb-4a5f-92e4-76ddbe5e6872"
      },
      "execution_count": null,
      "outputs": [
        {
          "output_type": "execute_result",
          "data": {
            "text/plain": [
              "True"
            ]
          },
          "metadata": {},
          "execution_count": 9
        }
      ]
    },
    {
      "cell_type": "code",
      "source": [
        "#less than, a<b , returns true, otherwise false\n",
        "a=6\n",
        "b=5\n",
        "a<b"
      ],
      "metadata": {
        "colab": {
          "base_uri": "https://localhost:8080/"
        },
        "id": "qGsUCMJRAPO4",
        "outputId": "8b95fdcc-6c6c-45e2-e5c1-73094aa7672a"
      },
      "execution_count": null,
      "outputs": [
        {
          "output_type": "execute_result",
          "data": {
            "text/plain": [
              "False"
            ]
          },
          "metadata": {},
          "execution_count": 11
        }
      ]
    },
    {
      "cell_type": "code",
      "source": [
        "'''\n",
        "Q8.\n",
        "'''\n",
        "#greater thanequal ,a>=b , returns true, otherwise false\n",
        "a=6\n",
        "b=5\n",
        "a>=b"
      ],
      "metadata": {
        "colab": {
          "base_uri": "https://localhost:8080/"
        },
        "id": "5muNmOMUAjsF",
        "outputId": "dc244359-ee41-4870-ef99-1d91bd6a2d29"
      },
      "execution_count": null,
      "outputs": [
        {
          "output_type": "execute_result",
          "data": {
            "text/plain": [
              "True"
            ]
          },
          "metadata": {},
          "execution_count": 12
        }
      ]
    },
    {
      "cell_type": "code",
      "source": [
        "'''\n",
        "Q8.\n",
        "'''\n",
        "#less than, a<=b , returns true, otherwise false\n",
        "a=6\n",
        "b=5\n",
        "a<=b"
      ],
      "metadata": {
        "colab": {
          "base_uri": "https://localhost:8080/"
        },
        "id": "9pbr4YE1Av5C",
        "outputId": "98c8f15e-4c3d-4ae4-c7ae-482ba5db95e9"
      },
      "execution_count": null,
      "outputs": [
        {
          "output_type": "execute_result",
          "data": {
            "text/plain": [
              "False"
            ]
          },
          "metadata": {},
          "execution_count": 14
        }
      ]
    },
    {
      "cell_type": "code",
      "source": [
        "'''\n",
        "Q9.  Write a Python program to convert user input from string to integer,\n",
        " float, and boolean types\n",
        "'''\n",
        "s=input('Enter a string: ')\n",
        "\n",
        "#str to int\n",
        " #not in character case, it gives an error because character not in integer\n",
        "\n",
        "intvalue=int(s)\n",
        "print(intvalue)\n",
        "\n",
        "#str to float\n",
        " #not in character case, it gives an error because character not in integer\n",
        "floatvalue=float(s)\n",
        "print(floatvalue)\n",
        "\n",
        "#str to boolean\n",
        "booleanvalue=bool(s)\n",
        "print(booleanvalue)\n",
        "\n"
      ],
      "metadata": {
        "colab": {
          "base_uri": "https://localhost:8080/"
        },
        "id": "ubG_nA0oAyW8",
        "outputId": "9cc6a22b-4e77-4238-ff43-ce2b426e702b"
      },
      "execution_count": null,
      "outputs": [
        {
          "output_type": "stream",
          "name": "stdout",
          "text": [
            "Enter a string: 80\n",
            "80\n",
            "80.0\n",
            "True\n"
          ]
        }
      ]
    },
    {
      "cell_type": "code",
      "source": [
        "'''\n",
        "Q10.  Write code to demonstrate type casting with list elements.\n",
        "'''\n",
        "\n",
        "\n",
        "list = ['140', '20.5','apple', 'True', '3+5j']\n",
        "\n",
        "# Convert to integer (if possible)\n",
        "int_list = [int(x) for x in list if x.isdigit()]\n",
        "print(\"Integer List:\", int_list)\n",
        "\n",
        "# Convert to float\n",
        "float_list = [float(x) for x in list if x.replace('.', '', 1).isdigit()]\n",
        "print(\"Float List:\", float_list)\n",
        "\n",
        "# Convert to boolean\n",
        "bool_list = [x.lower() in (\"true\", \"1\") for x in list]\n",
        "print(\"Boolean List:\", bool_list)\n"
      ],
      "metadata": {
        "colab": {
          "base_uri": "https://localhost:8080/"
        },
        "id": "kRYhIyJ-CLCr",
        "outputId": "ef56ae2e-5b04-4c03-8609-a3b43a4c203b"
      },
      "execution_count": null,
      "outputs": [
        {
          "output_type": "stream",
          "name": "stdout",
          "text": [
            "Integer List: [140]\n",
            "Float List: [140.0, 20.5]\n",
            "Boolean List: [False, False, False, True, False]\n"
          ]
        }
      ]
    },
    {
      "cell_type": "code",
      "source": [
        "'''\n",
        " Q11. Write a program that checks if a number is positive, negative, or zero.\n",
        " '''\n",
        "a=int(input('Enter a number: '))\n",
        "if a>0:\n",
        "    print('positive number')\n",
        "elif a<0:\n",
        "    print('negative number')\n",
        "else:\n",
        "    print('zero')"
      ],
      "metadata": {
        "colab": {
          "base_uri": "https://localhost:8080/"
        },
        "id": "Pb9IKd4xKz9n",
        "outputId": "2cad76ab-8357-4551-f51c-e678417c26a2"
      },
      "execution_count": null,
      "outputs": [
        {
          "output_type": "stream",
          "name": "stdout",
          "text": [
            "Enter a number: 90\n",
            "positive number\n"
          ]
        }
      ]
    },
    {
      "cell_type": "code",
      "source": [
        "'''\n",
        "Q12. Write a for loop to print numbers from 1 to 10.\n",
        "'''\n",
        "n=10\n",
        "i=1\n",
        "while i<=n:\n",
        "    print(i)\n",
        "    i=i+1\n"
      ],
      "metadata": {
        "colab": {
          "base_uri": "https://localhost:8080/"
        },
        "id": "6CQGeW_8Q1Kt",
        "outputId": "5d204967-ffba-4158-f5ba-c0af8ab7d648"
      },
      "execution_count": null,
      "outputs": [
        {
          "output_type": "stream",
          "name": "stdout",
          "text": [
            "1\n",
            "2\n",
            "3\n",
            "4\n",
            "5\n",
            "6\n",
            "7\n",
            "8\n",
            "9\n",
            "10\n"
          ]
        }
      ]
    },
    {
      "cell_type": "code",
      "source": [
        "'''\n",
        " Q13. Write a Python program to find the sum of all even\n",
        "  numbers between 1 and 50.\n",
        "'''\n",
        "n=50\n",
        "sum = 0\n",
        "i = 0\n",
        "while i <= n:\n",
        "    if i % 2 == 0:\n",
        "        sum+=i\n",
        "    i+=1\n",
        "print(f\"Sum of all the even numbers is {sum}\")"
      ],
      "metadata": {
        "colab": {
          "base_uri": "https://localhost:8080/"
        },
        "id": "IvHUSSfKR2qT",
        "outputId": "bedb3e31-ded0-4aca-ef6e-93a238803208"
      },
      "execution_count": null,
      "outputs": [
        {
          "output_type": "stream",
          "name": "stdout",
          "text": [
            "Sum of all the even numbers is 650\n"
          ]
        }
      ]
    },
    {
      "cell_type": "code",
      "source": [
        "'''\n",
        "Q14. . Write a program to reverse a string using a while loop.\n",
        "'''\n",
        "str1 = input(\"Enter a string: \")\n",
        "rev_str1 = \"\"\n",
        "i = len(str1) - 1\n",
        "\n",
        "while i >= 0:\n",
        "    rev_str1 += str1[i]\n",
        "    i -= 1\n",
        "\n",
        "print(\"Reversed string:\", rev_str1)"
      ],
      "metadata": {
        "colab": {
          "base_uri": "https://localhost:8080/"
        },
        "id": "YxAUCRTVTaQw",
        "outputId": "fae2724c-2349-40fd-d581-f301f97973ed"
      },
      "execution_count": null,
      "outputs": [
        {
          "output_type": "stream",
          "name": "stdout",
          "text": [
            "Enter a string: sunny\n",
            "Reversed string: ynnus\n"
          ]
        }
      ]
    },
    {
      "cell_type": "code",
      "source": [
        "'''\n",
        "Q15.  Write a Python program to calculate the factorial of a number provided by\n",
        " the user using a while loop.\n",
        "'''\n",
        "# input from user\n",
        "n= int(input(\"Enter a number: \"))\n",
        "\n",
        "fact = 1 # Initialize factorial and counter\n",
        "i = n\n",
        "\n",
        "while i > 0:   # Calculate factorial using while loop\n",
        "    fact *= i\n",
        "    i -= 1\n",
        "\n",
        "# Print the result\n",
        "print(f\"The factorial of {n} is: {fact}\")\n"
      ],
      "metadata": {
        "colab": {
          "base_uri": "https://localhost:8080/"
        },
        "id": "kINBJPDgUJzh",
        "outputId": "2a764b41-8358-4307-92cf-9ed4a44e62f8"
      },
      "execution_count": null,
      "outputs": [
        {
          "output_type": "stream",
          "name": "stdout",
          "text": [
            "Enter a number: 6\n",
            "The factorial of 6 is: 720\n"
          ]
        }
      ]
    },
    {
      "cell_type": "code",
      "source": [],
      "metadata": {
        "id": "i351Mt8tVZhp"
      },
      "execution_count": null,
      "outputs": []
    }
  ]
}